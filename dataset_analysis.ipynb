{
 "cells": [
  {
   "cell_type": "code",
   "execution_count": 11,
   "metadata": {},
   "outputs": [],
   "source": [
    "import pandas as pd\n",
    "import numpy as np"
   ]
  },
  {
   "cell_type": "code",
   "execution_count": 27,
   "metadata": {},
   "outputs": [],
   "source": [
    "df = pd.read_csv('data/matches/t20_bbb.csv')"
   ]
  },
  {
   "cell_type": "code",
   "execution_count": 28,
   "metadata": {},
   "outputs": [
    {
     "name": "stdout",
     "output_type": "stream",
     "text": [
      "Phase Percentages by Batting Position:\n",
      "phase            1          2          3          4\n",
      "bat_pos                                            \n",
      "1        66.157363  25.108277   6.304139   2.430221\n",
      "2        57.024079  30.018357   9.545405   3.412159\n",
      "3        35.200509  40.967537  16.740929   7.091025\n",
      "4        16.329683  45.450716  27.113170  11.106431\n",
      "5         7.778709  34.903604  32.271584  25.046102\n",
      "6         2.327221  24.400564  35.448989  37.823225\n",
      "7         0.297619  15.575397  33.564815  50.562169\n",
      "8         0.000000   7.062147  27.288136  65.649718\n",
      "9         0.000000   3.707627  28.495763  67.796610\n",
      "10        0.000000   1.620370  23.148148  75.231481\n",
      "11        0.000000   0.520833  10.416667  89.062500\n"
     ]
    }
   ],
   "source": [
    "# Find % balls of each phase faced by every position (bat_pos)\n",
    "import pandas as pd\n",
    "\n",
    "# Ensure bat_pos is integer type\n",
    "df['bat_pos'] = df['bat_pos'].astype(int)\n",
    "\n",
    "# Group data by bat_pos and phase, then calculate percentages\n",
    "phase_table = df.groupby(['bat_pos', 'phase']).size().unstack(fill_value=0)\n",
    "\n",
    "# Convert counts to percentages (each row sums to 100%)\n",
    "phase_table_pct = phase_table.div(phase_table.sum(axis=1), axis=0) * 100\n",
    "\n",
    "# Ensure all phases (1-4) are present as columns\n",
    "all_phases = [1, 2, 3, 4]  # Adjust this list based on your actual phases\n",
    "for phase in all_phases:\n",
    "    if phase not in phase_table_pct.columns:\n",
    "        phase_table_pct[phase] = 0.0\n",
    "\n",
    "# Sort columns to ensure proper order\n",
    "phase_table_pct = phase_table_pct.reindex(sorted(phase_table_pct.columns), axis=1)\n",
    "\n",
    "print(\"Phase Percentages by Batting Position:\")\n",
    "print(phase_table_pct)\n",
    "\n",
    "# If you want to save it as CSV\n",
    "phase_table_pct.to_csv('data\\processed\\phase_weights.csv')"
   ]
  },
  {
   "cell_type": "code",
   "execution_count": 31,
   "metadata": {},
   "outputs": [
    {
     "name": "stdout",
     "output_type": "stream",
     "text": [
      "bat_pos\n",
      "1     0.169180\n",
      "2     0.188496\n",
      "3     0.159879\n",
      "4     0.144959\n",
      "5     0.121410\n",
      "6     0.086585\n",
      "7     0.061550\n",
      "8     0.036026\n",
      "9     0.019214\n",
      "10    0.008793\n",
      "11    0.003908\n",
      "dtype: float64\n"
     ]
    }
   ],
   "source": [
    "# Position wise balls faced overall\n",
    "pos_balls = df.groupby(['bat_pos']).size()\n",
    "#convert to percentage\n",
    "pos_balls = pos_balls.div(pos_balls.sum())\n",
    "print(pos_balls)   \n"
   ]
  },
  {
   "cell_type": "code",
   "execution_count": 36,
   "metadata": {},
   "outputs": [
    {
     "name": "stdout",
     "output_type": "stream",
     "text": [
      "bat_pos\n",
      "1     0.170919\n",
      "2     0.196982\n",
      "3     0.163785\n",
      "4     0.142512\n",
      "5     0.121843\n",
      "6     0.085424\n",
      "7     0.062353\n",
      "8     0.033629\n",
      "9     0.015203\n",
      "10    0.005149\n",
      "11    0.002201\n",
      "Name: batruns, dtype: float64\n"
     ]
    }
   ],
   "source": [
    "# Position wise runs scored overall\n",
    "pos_runs = df.groupby(['bat_pos'])['batruns'].sum()\n",
    "# Convert to percentage\n",
    "pos_runs = (pos_runs / pos_runs.sum()) \n",
    "print(pos_runs)"
   ]
  },
  {
   "cell_type": "code",
   "execution_count": null,
   "metadata": {},
   "outputs": [],
   "source": []
  }
 ],
 "metadata": {
  "kernelspec": {
   "display_name": "DS",
   "language": "python",
   "name": "python3"
  },
  "language_info": {
   "codemirror_mode": {
    "name": "ipython",
    "version": 3
   },
   "file_extension": ".py",
   "mimetype": "text/x-python",
   "name": "python",
   "nbconvert_exporter": "python",
   "pygments_lexer": "ipython3",
   "version": "3.10.14"
  }
 },
 "nbformat": 4,
 "nbformat_minor": 2
}
